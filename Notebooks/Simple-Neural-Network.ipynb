{
 "cells": [
  {
   "cell_type": "markdown",
   "metadata": {},
   "source": [
    "# First neural network"
   ]
  },
  {
   "cell_type": "markdown",
   "metadata": {},
   "source": [
    "We will build a simple feed forward neural network with Keras. We will start with a two layer neural network for simplicity."
   ]
  },
  {
   "cell_type": "markdown",
   "metadata": {},
   "source": [
    "#### Import all necessary python packages "
   ]
  },
  {
   "cell_type": "code",
   "execution_count": 1,
   "metadata": {
    "collapsed": false
   },
   "outputs": [
    {
     "name": "stderr",
     "output_type": "stream",
     "text": [
      "Using Theano backend.\n",
      "/usr/local/lib/python2.7/dist-packages/sklearn/cross_validation.py:44: DeprecationWarning: This module was deprecated in version 0.18 in favor of the model_selection module into which all the refactored classes and functions are moved. Also note that the interface of the new CV iterators are different from that of this module. This module will be removed in 0.20.\n",
      "  \"This module will be removed in 0.20.\", DeprecationWarning)\n"
     ]
    }
   ],
   "source": [
    "# For simple array operations\n",
    "import numpy as np \n",
    "\n",
    "# To construct the model\n",
    "from keras.models import Sequential\n",
    "from keras.layers import Dense, Activation\n",
    "from keras.optimizers import SGD\n",
    "\n",
    "# Some utility for splitting data and printing the classification report\n",
    "from sklearn.cross_validation import train_test_split\n",
    "from sklearn.metrics import classification_report\n",
    "from sklearn.utils import shuffle"
   ]
  },
  {
   "cell_type": "markdown",
   "metadata": {},
   "source": [
    "#### Load some data\n",
    "\n",
    "The dataset in this experiment is a publically available pulsar dataset from Rob Lyons paper. It is in a simple ASCII format delimited by commas. There are 8 statistical features that represent different measure of the de-dispersed pulse profile of pulsar and non pulsar candidates. The last column is  a label column where '1' represents a pulsar and '0' represents a non pulsar candidate."
   ]
  },
  {
   "cell_type": "code",
   "execution_count": 2,
   "metadata": {
    "collapsed": false
   },
   "outputs": [
    {
     "name": "stdout",
     "output_type": "stream",
     "text": [
      "The dataset has 17898 rows and 8 features\n"
     ]
    }
   ],
   "source": [
    "dataset = np.loadtxt('../Data/HTRU_2.csv',delimiter=',')\n",
    "\n",
    "print 'The dataset has %d rows and %d features' %(dataset.shape[0],dataset.shape[1]-1)"
   ]
  },
  {
   "cell_type": "code",
   "execution_count": 3,
   "metadata": {
    "collapsed": false
   },
   "outputs": [],
   "source": [
    "# Split into features and labels\n",
    "for i in range(0,10):\n",
    "    dataset = shuffle(dataset)\n",
    "    \n",
    "features = dataset[:,0:-1]\n",
    "labels = dataset[:,-1]"
   ]
  },
  {
   "cell_type": "markdown",
   "metadata": {},
   "source": [
    "#### Split the data into training and testing data"
   ]
  },
  {
   "cell_type": "code",
   "execution_count": 4,
   "metadata": {
    "collapsed": true
   },
   "outputs": [],
   "source": [
    "traindata,testdata,trainlabels,testlabels = train_test_split(features,labels,test_size=0.3)\n",
    "\n",
    "trainlabels = trainlabels.astype('int')\n",
    "testlabels = testlabels.astype('int')"
   ]
  },
  {
   "cell_type": "markdown",
   "metadata": {},
   "source": [
    "#### Show some info about the split"
   ]
  },
  {
   "cell_type": "code",
   "execution_count": 5,
   "metadata": {
    "collapsed": false
   },
   "outputs": [
    {
     "name": "stdout",
     "output_type": "stream",
     "text": [
      "Number of training samples : 12528\n",
      "Number of test samples : 5370\n"
     ]
    }
   ],
   "source": [
    "print 'Number of training samples : %d'%(traindata.shape[0])\n",
    "print 'Number of test samples : %d'%(testdata.shape[0])\n"
   ]
  },
  {
   "cell_type": "markdown",
   "metadata": {},
   "source": [
    "#### Construct the model"
   ]
  },
  {
   "cell_type": "code",
   "execution_count": 6,
   "metadata": {
    "collapsed": false
   },
   "outputs": [],
   "source": [
    "model = Sequential() # Our model is a simple feedforward model\n",
    "model.add(Dense(64,input_shape=(8,)))  # The first layer holds the input for in which our case the there are 8 features.\n",
    "model.add(Activation('relu')) # First activation layer is rectified linear unit (RELU)\n",
    "model.add(Dense(256)) # Second layer has 64 neurons \n",
    "model.add(Activation('relu')) # Second RELU activation\n",
    "model.add(Dense(1)) # Third layer has 1 neuron because we have only one outcome - pulsar or non pulsar\n",
    "model.add(Activation('softmax')) # The Scoring layer which normalizes the scores"
   ]
  },
  {
   "cell_type": "markdown",
   "metadata": {},
   "source": [
    "##### Print the mode summary\n",
    "This step makes sure that our model is correctly defined and there is no error in the model definition.\n",
    "It will also show the sizes of each layers"
   ]
  },
  {
   "cell_type": "code",
   "execution_count": 7,
   "metadata": {
    "collapsed": false
   },
   "outputs": [
    {
     "name": "stdout",
     "output_type": "stream",
     "text": [
      "____________________________________________________________________________________________________\n",
      "Layer (type)                     Output Shape          Param #     Connected to                     \n",
      "====================================================================================================\n",
      "dense_1 (Dense)                  (None, 64)            576         dense_input_1[0][0]              \n",
      "____________________________________________________________________________________________________\n",
      "activation_1 (Activation)        (None, 64)            0           dense_1[0][0]                    \n",
      "____________________________________________________________________________________________________\n",
      "dense_2 (Dense)                  (None, 256)           16640       activation_1[0][0]               \n",
      "____________________________________________________________________________________________________\n",
      "activation_2 (Activation)        (None, 256)           0           dense_2[0][0]                    \n",
      "____________________________________________________________________________________________________\n",
      "dense_3 (Dense)                  (None, 1)             257         activation_2[0][0]               \n",
      "____________________________________________________________________________________________________\n",
      "activation_3 (Activation)        (None, 1)             0           dense_3[0][0]                    \n",
      "====================================================================================================\n",
      "Total params: 17473\n",
      "____________________________________________________________________________________________________\n"
     ]
    }
   ],
   "source": [
    "model.summary()"
   ]
  },
  {
   "cell_type": "markdown",
   "metadata": {},
   "source": [
    "#### Compile the model \n",
    "This step defines the parameters for training "
   ]
  },
  {
   "cell_type": "code",
   "execution_count": 8,
   "metadata": {
    "collapsed": false
   },
   "outputs": [],
   "source": [
    "model.compile(loss='binary_crossentropy',  # Loss function for binary classification\n",
    "              optimizer=SGD(), # Optimizer for learning, in this case Stochastic Gradient Descent (SGD)\n",
    "             metrics=['accuracy']) # Evaluation function\""
   ]
  },
  {
   "cell_type": "markdown",
   "metadata": {},
   "source": [
    "#### Train the model\n",
    "In this step we will train the network and also define the number of epochs and batch size for training."
   ]
  },
  {
   "cell_type": "code",
   "execution_count": 9,
   "metadata": {
    "collapsed": false
   },
   "outputs": [
    {
     "name": "stdout",
     "output_type": "stream",
     "text": [
      "Train on 12528 samples, validate on 5370 samples\n",
      "Epoch 1/10\n",
      "12528/12528 [==============================] - 0s - loss: 14.4662 - acc: 0.0926 - val_loss: 14.5203 - val_acc: 0.0892\n",
      "Epoch 2/10\n",
      "12528/12528 [==============================] - 0s - loss: 14.4662 - acc: 0.0926 - val_loss: 14.5203 - val_acc: 0.0892\n",
      "Epoch 3/10\n",
      "12528/12528 [==============================] - 0s - loss: 14.4662 - acc: 0.0926 - val_loss: 14.5203 - val_acc: 0.0892\n",
      "Epoch 4/10\n",
      "12528/12528 [==============================] - 0s - loss: 14.4662 - acc: 0.0926 - val_loss: 14.5203 - val_acc: 0.0892\n",
      "Epoch 5/10\n",
      "12528/12528 [==============================] - 0s - loss: 14.4662 - acc: 0.0926 - val_loss: 14.5203 - val_acc: 0.0892\n",
      "Epoch 6/10\n",
      "12528/12528 [==============================] - 0s - loss: 14.4662 - acc: 0.0926 - val_loss: 14.5203 - val_acc: 0.0892\n",
      "Epoch 7/10\n",
      "12528/12528 [==============================] - 0s - loss: 14.4662 - acc: 0.0926 - val_loss: 14.5203 - val_acc: 0.0892\n",
      "Epoch 8/10\n",
      "12528/12528 [==============================] - 0s - loss: 14.4662 - acc: 0.0926 - val_loss: 14.5203 - val_acc: 0.0892\n",
      "Epoch 9/10\n",
      "12528/12528 [==============================] - 0s - loss: 14.4662 - acc: 0.0926 - val_loss: 14.5203 - val_acc: 0.0892\n",
      "Epoch 10/10\n",
      "12528/12528 [==============================] - 0s - loss: 14.4662 - acc: 0.0926 - val_loss: 14.5203 - val_acc: 0.0892\n"
     ]
    }
   ],
   "source": [
    "batch_size = 100\n",
    "n_epochs = 10\n",
    "\n",
    "training = model.fit(traindata,trainlabels,\n",
    "                     nb_epoch=n_epochs,\n",
    "                     batch_size=batch_size,\n",
    "                      validation_data=(testdata, testlabels),\n",
    "                     verbose=1)\n"
   ]
  },
  {
   "cell_type": "code",
   "execution_count": null,
   "metadata": {
    "collapsed": false
   },
   "outputs": [],
   "source": []
  },
  {
   "cell_type": "code",
   "execution_count": null,
   "metadata": {
    "collapsed": true
   },
   "outputs": [],
   "source": []
  }
 ],
 "metadata": {
  "kernelspec": {
   "display_name": "Python 2",
   "language": "python",
   "name": "python2"
  },
  "language_info": {
   "codemirror_mode": {
    "name": "ipython",
    "version": 2
   },
   "file_extension": ".py",
   "mimetype": "text/x-python",
   "name": "python",
   "nbconvert_exporter": "python",
   "pygments_lexer": "ipython2",
   "version": "2.7.12"
  }
 },
 "nbformat": 4,
 "nbformat_minor": 2
}
